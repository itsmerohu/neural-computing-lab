{
 "cells": [
  {
   "cell_type": "markdown",
   "metadata": {},
   "source": [
    "# SUPPORT VERCTOR MACHINE"
   ]
  },
  {
   "cell_type": "code",
   "execution_count": 1,
   "metadata": {},
   "outputs": [
    {
     "name": "stdout",
     "output_type": "stream",
     "text": [
      "Digits dataset keys\n",
      "dict_keys(['data', 'target', 'frame', 'feature_names', 'target_names', 'images', 'DESCR'])\n",
      "dataset target name[0 1 2 3 4 5 6 7 8 9]\n",
      "\n",
      "shape of dataset:(1797, 64)\n",
      " and target(1797,)\n",
      "shape of the images:(1797, 8, 8)\n"
     ]
    },
    {
     "data": {
      "image/png": "[encoded data removed]",
      "text/plain": [
       "<Figure size 432x288 with 4 Axes>"
      ]
     },
     "metadata": {
      "needs_background": "light"
     },
     "output_type": "display_data"
    },
    {
     "name": "stdout",
     "output_type": "stream",
     "text": [
      "Training data and target sizes:\n",
      "(898, 64),(898,)\n",
      "Test data and target sizes:\n",
      "(899, 64),(899,)\n",
      "Confusion matrix:\n",
      "[[87  0  0  0  1  0  0  0  0  0]\n",
      " [ 0 88  1  0  0  0  0  0  1  1]\n",
      " [ 0  0 85  1  0  0  0  0  0  0]\n",
      " [ 0  0  0 79  0  3  0  4  5  0]\n",
      " [ 0  0  0  0 88  0  0  0  0  4]\n",
      " [ 0  0  0  0  0 88  1  0  0  2]\n",
      " [ 0  1  0  0  0  0 90  0  0  0]\n",
      " [ 0  0  0  0  0  1  0 88  0  0]\n",
      " [ 0  0  0  0  0  0  0  0 88  0]\n",
      " [ 0  0  0  1  0  1  0  0  0 90]]\n",
      "Classification report for classifier SVC(gamma=0.001):\n",
      "              precision    recall  f1-score   support\n",
      "\n",
      "           0       1.00      0.99      0.99        88\n",
      "           1       0.99      0.97      0.98        91\n",
      "           2       0.99      0.99      0.99        86\n",
      "           3       0.98      0.87      0.92        91\n",
      "           4       0.99      0.96      0.97        92\n",
      "           5       0.95      0.97      0.96        91\n",
      "           6       0.99      0.99      0.99        91\n",
      "           7       0.96      0.99      0.97        89\n",
      "           8       0.94      1.00      0.97        88\n",
      "           9       0.93      0.98      0.95        92\n",
      "\n",
      "    accuracy                           0.97       899\n",
      "   macro avg       0.97      0.97      0.97       899\n",
      "weighted avg       0.97      0.97      0.97       899\n",
      "\n",
      "\n"
     ]
    }
   ],
   "source": [
    "import numpy as np\n",
    "import pandas as pd\n",
    "from subprocess import check_output\n",
    "import matplotlib.pyplot as plt\n",
    "import numpy as np\n",
    "%matplotlib inline\n",
    "from sklearn import datasets, svm,metrics\n",
    "digits=datasets.load_digits()\n",
    "print('Digits dataset keys\\n{}'.format(digits.keys()))\n",
    "print('dataset target name{}\\n'.format(digits.target_names))\n",
    "print('shape of dataset:{}\\n and target{}'.format(digits.data.shape,digits.target.shape))\n",
    "print('shape of the images:{}'.format(digits.images.shape))\n",
    "for i in range(0,4):\n",
    "    plt.subplot(2,4,i+1)\n",
    "    plt.axis('off')\n",
    "    imside=int(np.sqrt(digits.data[i].shape[0]))\n",
    "    im1=np.reshape(digits.data[i],(imside,imside))\n",
    "    plt.imshow(im1,cmap=plt.cm.gray_r,interpolation='nearest')\n",
    "    plt.title('Training:{}'.format(digits.target[i]))\n",
    "plt.show()\n",
    "n_samples=len(digits.images)\n",
    "data_images=digits.images.reshape((n_samples,-1))\n",
    "from sklearn.model_selection import train_test_split\n",
    "X_train,X_test,y_train,y_test=train_test_split(data_images,digits.target,test_size=0.5,shuffle=False)\n",
    "print('Training data and target sizes:\\n{},{}'.format(X_train.shape,y_train.shape))\n",
    "print('Test data and target sizes:\\n{},{}'.format(X_test.shape,y_test.shape))\n",
    "classifier = svm.SVC(gamma=0.001)\n",
    "classifier.fit(X_train,y_train)\n",
    "svm.SVC(gamma=0.001)\n",
    "y_pred=classifier.predict(X_test)\n",
    "print(\"Confusion matrix:\\n%s\"%metrics.confusion_matrix(y_test,y_pred))\n",
    "print(\"Classification report for classifier %s:\\n%s\\n\"%(classifier,metrics.classification_report(y_test,y_pred)))\n"
   ]
  },
  {
   "cell_type": "code",
   "execution_count": null,
   "metadata": {},
   "outputs": [],
   "source": []
  }
 ],
 "metadata": {
  "kernelspec": {
   "display_name": "Python 3",
   "language": "python",
   "name": "python3"
  },
  "language_info": {
   "codemirror_mode": {
    "name": "ipython",
    "version": 3
   },
   "file_extension": ".py",
   "mimetype": "text/x-python",
   "name": "python",
   "nbconvert_exporter": "python",
   "pygments_lexer": "ipython3",
   "version": "3.8.5"
  }
 },
 "nbformat": 4,
 "nbformat_minor": 4
}
